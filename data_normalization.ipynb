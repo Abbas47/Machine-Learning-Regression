{
 "cells": [
  {
   "cell_type": "code",
   "execution_count": null,
   "id": "855999d5",
   "metadata": {},
   "outputs": [],
   "source": [
    "# import libraries\n",
    "import os\n",
    "import numpy as np\n",
    "import pandas as pd\n",
    "import seaborn as sns\n",
    "from scipy.stats import kstest\n",
    "from sklearn.compose import ColumnTransformer\n",
    "from sklearn.preprocessing import PowerTransformer\n",
    "from sklearn.preprocessing import FunctionTransformer\n",
    "\n",
    "import matplotlib.pyplot as plt\n",
    "plt.rcParams[\"figure.figsize\"] = [15, 8] # set the figure size to solve the overlapping ticks problem\n",
    "plt.rcParams[\"figure.autolayout\"] = True"
   ]
  },
  {
   "cell_type": "code",
   "execution_count": null,
   "id": "8db608fd",
   "metadata": {},
   "outputs": [],
   "source": [
    "# define\n",
    "variable = '' # define varaible for modeling\n",
    "scale_ = False # define true for scalinf the data or false for not scaling the data"
   ]
  },
  {
   "cell_type": "code",
   "execution_count": null,
   "id": "b3353e0e",
   "metadata": {},
   "outputs": [],
   "source": [
    "# define path\n",
    "base_path = ''\n",
    "path = os.path.join(base_path, 'result')\n",
    "file_path = os.path.join(path, 'final_df.csv')\n",
    "plot = os.path.join(path, 'plot')"
   ]
  },
  {
   "cell_type": "code",
   "execution_count": null,
   "id": "2eb44efb",
   "metadata": {},
   "outputs": [],
   "source": [
    "# reading the dataset\n",
    "data = pd.read_csv(file_path)\n",
    "data.rename(columns = {'Unnamed: 0':'datacamp'}, inplace = True) # change the specific column name\n",
    "data = data.drop(columns=['datacamp'],axis=1)\n",
    "# print(data)"
   ]
  },
  {
   "cell_type": "code",
   "execution_count": null,
   "id": "8ef2a983",
   "metadata": {},
   "outputs": [],
   "source": [
    "# seperate the independent and target variable on training data\n",
    "x = data.drop(columns=[variable],axis=1)\n",
    "y = data[variable]"
   ]
  },
  {
   "cell_type": "code",
   "execution_count": null,
   "id": "131f66fc",
   "metadata": {},
   "outputs": [],
   "source": [
    "# Log Transform\n",
    "log_transform = FunctionTransformer(lambda x: np.log(x))\n",
    "ct = ColumnTransformer(transformers=[['log_transform',log_transform,list(range(len(data.columns)))]],remainder='passthrough')\n",
    "log_X = ct.fit_transform(data).copy()\n",
    "log_X = pd.DataFrame(log_X,columns=list(data.columns)).copy()\n",
    "sns.kdeplot(data=log_X)"
   ]
  },
  {
   "cell_type": "code",
   "execution_count": null,
   "id": "0a40c112",
   "metadata": {},
   "outputs": [],
   "source": [
    "# Reciprocal Transform\n",
    "reciprocal_transform = FunctionTransformer(lambda x: 1/x)\n",
    "ct = ColumnTransformer(transformers=[['reciprocal_transform',reciprocal_transform,list(range(len(data.columns)))]],remainder='passthrough')\n",
    "reci_X = ct.fit_transform(data).copy()\n",
    "reci_X = pd.DataFrame(reci_X,columns=list(data.columns)).copy()\n",
    "sns.kdeplot(data=reci_X)"
   ]
  },
  {
   "cell_type": "code",
   "execution_count": null,
   "id": "b990ec7b",
   "metadata": {},
   "outputs": [],
   "source": [
    "# Exponent Transform\n",
    "square_transform = FunctionTransformer(lambda x: x ** 2)\n",
    "ct = ColumnTransformer(transformers=[['square_transform',square_transform,list(range(len(data.columns)))]],remainder='passthrough')\n",
    "square_X = ct.fit_transform(data).copy()\n",
    "square_X = pd.DataFrame(square_X,columns=list(data.columns)).copy()\n",
    "sns.kdeplot(data=square_X)"
   ]
  },
  {
   "cell_type": "code",
   "execution_count": null,
   "id": "b82a5dfc",
   "metadata": {},
   "outputs": [],
   "source": [
    "# Box-Cox Transform\n",
    "boxcox_transform = PowerTransformer(method=\"box-cox\")\n",
    "ct = ColumnTransformer(transformers=[['boxcox_transform',boxcox_transform,list(range(len(data.columns)))]],remainder='passthrough')\n",
    "boxcox_X = ct.fit_transform(data).copy()\n",
    "boxcox_X = pd.DataFrame(boxcox_X,columns=list(data.columns)).copy()\n",
    "\n",
    "boxcox_transform = PowerTransformer(method=\"box-cox\")\n",
    "boxcox_transform.fit(x)\n",
    "# boxcox_transform.lambdas_\n",
    "sns.kdeplot(data=boxcox_X)"
   ]
  },
  {
   "cell_type": "code",
   "execution_count": null,
   "id": "aff44559",
   "metadata": {},
   "outputs": [],
   "source": [
    "# Yeo-Johnson Transform\n",
    "yeo_transform = PowerTransformer(method=\"yeo-johnson\")\n",
    "ct = ColumnTransformer(transformers=[['yeo_transform',yeo_transform,list(range(len(data.columns)))]],remainder='passthrough')\n",
    "yeo_X = ct.fit_transform(data).copy()\n",
    "yeo_X = pd.DataFrame(yeo_X,columns=list(data.columns)).copy()\n",
    "\n",
    "yeo_transform = PowerTransformer(method=\"yeo-johnson\")\n",
    "yeo_transform.fit(x)\n",
    "# yeo_transform.lambdas_\n",
    "sns.kdeplot(data=yeo_X)"
   ]
  },
  {
   "cell_type": "code",
   "execution_count": null,
   "id": "b904a2fe",
   "metadata": {},
   "outputs": [],
   "source": []
  }
 ],
 "metadata": {
  "kernelspec": {
   "display_name": "Python 3 (ipykernel)",
   "language": "python",
   "name": "python3"
  },
  "language_info": {
   "codemirror_mode": {
    "name": "ipython",
    "version": 3
   },
   "file_extension": ".py",
   "mimetype": "text/x-python",
   "name": "python",
   "nbconvert_exporter": "python",
   "pygments_lexer": "ipython3",
   "version": "3.9.7"
  }
 },
 "nbformat": 4,
 "nbformat_minor": 5
}
